{
 "cells": [
  {
   "cell_type": "markdown",
   "metadata": {},
   "source": [
    "# Idade e Gênero"
   ]
  },
  {
   "cell_type": "markdown",
   "metadata": {},
   "source": [
    "#### Recebendo dados do arquivo .mat"
   ]
  },
  {
   "cell_type": "markdown",
   "metadata": {},
   "source": [
    "### Script para o Wiki.mat"
   ]
  },
  {
   "cell_type": "code",
   "execution_count": 308,
   "metadata": {
    "collapsed": true
   },
   "outputs": [],
   "source": [
    "import scipy.io as sio\n",
    "import os.path\n",
    "import math\n",
    "from datetime import datetime, timedelta\n",
    "\n",
    "if (not os.path.exists(\"wiki_crop/wiki.mat\")):\n",
    "    raise FileNotFoundError\n",
    "    \n",
    "mat_data = sio.loadmat(\"wiki_crop/wiki.mat\")\n",
    "wiki_struct = mat_data[\"wiki\"]\n",
    "# Data em que a foto foi tirada\n",
    "dob = wiki_struct[0,0][0][0] # Formato Matlab\n",
    "photo_taken = wiki_struct[0,0][1][0].tolist()\n",
    "# Cotem anos menores que 0\n",
    "age = calculate_age(dob, photo_taken) # EM anos\n",
    "\n",
    "full_path = wiki_struct[0,0][2][0]\n",
    "full_path = [full_path.tolist()[x].tolist() for x in range(len(full_path))]\n",
    "full_path = [ full_path[x][0] for x in range(len(full_path))]\n",
    "\n",
    "# Pode conter NaN\n",
    "gender = wiki_struct[0,0][3][0]\n",
    "gender = [ np.int(x) if not math.isnan else x for x in gender ]\n",
    "\n",
    "names = wiki_struct[0,0][4]\n",
    "names = [names[0][x].tolist()[0] if names[0][x].tolist() != [] else \"\"  for x in range(len(names[0]))]\n",
    "\n",
    "face_location = wiki_struct[0,0][5]\n",
    "face_location = face_location.tolist()[0]\n",
    "face_location = [face_location[x][0] for x in range(len(face_location))]\n",
    "#img[face_location(2):face_location(4),face_location(1):face_location(3),:]\n",
    "\n",
    "face_score = wiki_struct[0,0][6][0]\n",
    "second_face_score = wiki_struct[0,0][7][0]\n",
    "\n",
    "pd_csv = {\n",
    "    'AGE' : age,\n",
    "    'FULL_PATH' : full_path,\n",
    "    'GENDER' : gender,\n",
    "    'NAMES' : names,\n",
    "    'FACE_LOCATION': face_location,\n",
    "    'FACE_SCORE' : face_score,\n",
    "    'SECOND_FACE_SCORE' : second_face_score,\n",
    "}\n",
    "import pandas as pd\n",
    "df = pd.DataFrame(pd_csv, columns=['AGE','FULL_PATH','GENDER','NAMES','FACE_LOCATION','FACE_SCORE','SECOND_FACE_SCORE'])\n",
    "df.to_csv(\"wiki.csv\",index=False) # Cria csv\n",
    "\n",
    "# referencias : http://sociograph.blogspot.com.br/2011/04/how-to-avoid-gotcha-when-converting.html\n",
    "def calculate_age(dob,photo_taken):\n",
    "    age = []\n",
    "    for i in range(len(photo_taken)):\n",
    "        matlab_datenum = int(dob[i])\n",
    "        data_of_birth = datetime.fromordinal(int(matlab_datenum)) + timedelta(days=matlab_datenum%1) - timedelta(days = 366)\n",
    "        age.append(abs(photo_taken[i]) - abs(data_of_birth.year))\n",
    "    return age\n"
   ]
  },
  {
   "cell_type": "markdown",
   "metadata": {},
   "source": [
    "### Script Para IMDB"
   ]
  },
  {
   "cell_type": "code",
   "execution_count": 87,
   "metadata": {},
   "outputs": [],
   "source": [
    "import scipy.io as sio\n",
    "import os.path\n",
    "import math\n",
    "from datetime import datetime, timedelta\n",
    "# referencias : http://sociograph.blogspot.com.br/2011/04/how-to-avoid-gotcha-when-converting.html\n",
    "def calculate_age(dob,photo_taken):\n",
    "    age = []\n",
    "    years4 = 4*365 +1\n",
    "    for i in range(len(dob)):\n",
    "        data_of_birth_block4 = dob[i]/years4 \n",
    "        rest_block4 = (data_of_birth_block4  %1)*4\n",
    "        rest_block4 = np.floor(rest_block4)\n",
    "        date_of_birth = data_of_birth_block4*4 + rest_block4\n",
    "        age.append(photo_taken[i] - int(date_of_birth))\n",
    "    return age\n",
    "\n",
    "if (not os.path.exists(\"imdb/imdb.mat\")):\n",
    "    raise FileNotFoundError\n",
    "    \n",
    "mat_data = sio.loadmat(\"imdb/imdb.mat\")\n",
    "imdb_struct = mat_data[\"imdb\"]\n",
    "# Data em que a foto foi tirada\n",
    "dob = imdb_struct[0,0][0][0] # Formato Matlab\n",
    "photo_taken = imdb_struct[0,0][1][0].tolist()\n",
    "# Cotem anos menores que 0\n",
    "age = calculate_age(dob, photo_taken) # EM anos\n",
    "\n",
    "full_path = imdb_struct[0,0][2][0]\n",
    "full_path = [full_path.tolist()[x].tolist() for x in range(len(full_path))]\n",
    "full_path = [ full_path[x][0] for x in range(len(full_path))]\n",
    "\n",
    "# Pode conter NaN\n",
    "gender = imdb_struct[0,0][3][0]\n",
    "gender = [ np.int(x) if not math.isnan else x for x in gender ]\n",
    "\n",
    "names = imdb_struct[0,0][4]\n",
    "names = [names[0][x].tolist()[0] if names[0][x].tolist() != [] else \"\"  for x in range(len(names[0]))]\n",
    "\n",
    "face_location = imdb_struct[0,0][5]\n",
    "face_location = face_location.tolist()[0]\n",
    "face_location = [face_location[x][0] for x in range(len(face_location))]\n",
    "#img[face_location(2):face_location(4),face_location(1):face_location(3),:]\n",
    "\n",
    "face_score = imdb_struct[0,0][6][0]\n",
    "second_face_score = imdb_struct[0,0][7][0]\n",
    "\n",
    "pd_csv = {\n",
    "    'AGE' : age,\n",
    "    'FULL_PATH' : full_path,\n",
    "    'GENDER' : gender,\n",
    "    'NAMES' : names,\n",
    "    'FACE_LOCATION': face_location,\n",
    "    'FACE_SCORE' : face_score,\n",
    "    'SECOND_FACE_SCORE' : second_face_score,\n",
    "}\n",
    "import pandas as pd\n",
    "df = pd.DataFrame(pd_csv, columns=['AGE','FULL_PATH','GENDER','NAMES','FACE_LOCATION','FACE_SCORE','SECOND_FACE_SCORE'])\n",
    "#df.to_csv(\"imdb.csv\",index=False) # Cria csv\n"
   ]
  },
  {
   "cell_type": "code",
   "execution_count": 91,
   "metadata": {},
   "outputs": [
    {
     "data": {
      "text/plain": [
       "'/media/phillipe/5C8067C68067A4EC/Users/Phillipe/Documents/EngComp015/6-Sem/MC886/Projetos/Gender and Age'"
      ]
     },
     "execution_count": 91,
     "metadata": {},
     "output_type": "execute_result"
    }
   ],
   "source": [
    "pwd"
   ]
  },
  {
   "cell_type": "code",
   "execution_count": 89,
   "metadata": {
    "collapsed": true
   },
   "outputs": [],
   "source": [
    "df.to_csv(\"imdb_correct.csv\",index=False) # Cria csv"
   ]
  },
  {
   "cell_type": "code",
   "execution_count": 6,
   "metadata": {},
   "outputs": [],
   "source": [
    "mat_data = sio.loadmat(\"imdb/imdb.mat\")\n",
    "imdb_struct = mat_data[\"imdb\"]"
   ]
  },
  {
   "cell_type": "code",
   "execution_count": 7,
   "metadata": {
    "collapsed": true
   },
   "outputs": [],
   "source": [
    "photo_taken = imdb_struct[0,0][1][0].tolist()"
   ]
  },
  {
   "cell_type": "code",
   "execution_count": 35,
   "metadata": {
    "collapsed": true
   },
   "outputs": [],
   "source": [
    "dob = imdb_struct[0,0][0][0]"
   ]
  }
 ],
 "metadata": {
  "kernelspec": {
   "display_name": "Python (ML)",
   "language": "python",
   "name": "ml"
  },
  "language_info": {
   "codemirror_mode": {
    "name": "ipython",
    "version": 3
   },
   "file_extension": ".py",
   "mimetype": "text/x-python",
   "name": "python",
   "nbconvert_exporter": "python",
   "pygments_lexer": "ipython3",
   "version": "3.6.3"
  }
 },
 "nbformat": 4,
 "nbformat_minor": 2
}
