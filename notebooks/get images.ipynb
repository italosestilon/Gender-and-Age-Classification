{
 "cells": [
  {
   "cell_type": "code",
   "execution_count": 1,
   "metadata": {},
   "outputs": [
    {
     "name": "stdout",
     "output_type": "stream",
     "text": [
      "Populating the interactive namespace from numpy and matplotlib\n"
     ]
    }
   ],
   "source": [
    "import os\n",
    "%pylab inline"
   ]
  },
  {
   "cell_type": "code",
   "execution_count": 1,
   "metadata": {
    "collapsed": true
   },
   "outputs": [],
   "source": [
    "import os\n",
    "import pandas as pd\n",
    "import numpy as np\n",
    "from scipy import misc\n",
    "import matplotlib.pyplot as plt\n",
    "from skimage.color import rgb2gray\n",
    "from sklearn.preprocessing import MinMaxScaler\n",
    "from sklearn.utils import shuffle\n",
    "%matplotlib inline\n",
    "\n",
    "class Dados(object):\n",
    "    def __init__(self, path='imdb_crop'):\n",
    "        self.caminho = path\n",
    "        self.labels = pd.read_csv(\"/media/phillipe/5C8067C68067A4EC/Users/Phillipe/Documents/EngComp015/6-Sem/MC886/Projetos/Gender-and-Age-Classification/imdb.csv\")\n",
    "        self.labels = shuffle(self.labels)\n",
    "        self.Dir = self.labels.FULL_PATH.values\n",
    "    def vetorImagem(self,begin,end):\n",
    "        imagens = []\n",
    "        for i in range(begin,end):\n",
    "            img = misc.imread(self.caminho+\"/\"+self.Dir[i])\n",
    "            imagens.append(img)\n",
    "        self.imagens = imagens\n"
   ]
  },
  {
   "cell_type": "code",
   "execution_count": 2,
   "metadata": {
    "collapsed": true
   },
   "outputs": [],
   "source": [
    "dados =  Dados()"
   ]
  },
  {
   "cell_type": "code",
   "execution_count": 5,
   "metadata": {},
   "outputs": [],
   "source": [
    "teste = dados.labels.FULL_PATH.values[0]"
   ]
  },
  {
   "cell_type": "code",
   "execution_count": 54,
   "metadata": {},
   "outputs": [],
   "source": [
    "def find_year(path):\n",
    "    under1= path[path.find(\"_\")+1:]\n",
    "    under2= under1[under1.find(\"_\")+1:]\n",
    "    under3 = under2[under2.find(\"_\")+1:]\n",
    "   # print(int(under2[0:4]),int(under3[0:4]))\n",
    "    year1 = under2[0:4]\n",
    "    year2 = under3[0:4]\n",
    "    if year1.isnumeric() and year2.isnumeric() :\n",
    "        return int(year2) -  int(year1)\n",
    "    else:\n",
    "        return -1"
   ]
  },
  {
   "cell_type": "code",
   "execution_count": 55,
   "metadata": {},
   "outputs": [
    {
     "data": {
      "application/vnd.jupyter.widget-view+json": {
       "model_id": "809f958186414e12b65b4d260ae94610",
       "version_major": 2,
       "version_minor": 0
      },
      "text/plain": [
       "A Jupyter Widget"
      ]
     },
     "metadata": {},
     "output_type": "display_data"
    },
    {
     "name": "stdout",
     "output_type": "stream",
     "text": [
      "\n"
     ]
    }
   ],
   "source": [
    "for line , path in enumerate(tqdm_notebook(dados.labels.FULL_PATH.values)):\n",
    "    dados.labels.AGE.values[line] = find_year(path)"
   ]
  },
  {
   "cell_type": "code",
   "execution_count": 88,
   "metadata": {},
   "outputs": [],
   "source": [
    "correct_age = dados.labels.loc[dados.labels[\"AGE\"] > 0 ]"
   ]
  },
  {
   "cell_type": "code",
   "execution_count": 89,
   "metadata": {},
   "outputs": [],
   "source": [
    "correct_age = correct_age.loc[correct_age[\"AGE\"] < 100]"
   ]
  },
  {
   "cell_type": "code",
   "execution_count": 91,
   "metadata": {
    "collapsed": true
   },
   "outputs": [],
   "source": [
    "correct_age.to_csv(\"imdb_correct_age.csv\",index=False)"
   ]
  },
  {
   "cell_type": "code",
   "execution_count": 90,
   "metadata": {},
   "outputs": [
    {
     "data": {
      "text/plain": [
       "<matplotlib.axes._subplots.AxesSubplot at 0x7ff59170e160>"
      ]
     },
     "execution_count": 90,
     "metadata": {},
     "output_type": "execute_result"
    }
   ],
   "source": [
    "import scipy.stats as ss\n",
    "figure(figsize=(30,20))\n",
    "plt.xlabel(\"AGE_IMDB\", fontsize=20)\n",
    "plt.ylabel(\"Numbers of Samples\",fontsize=20)\n",
    "plt.tick_params(axis='both', which='major', labelsize=20)\n",
    "correct_age.AGE.hist( bins=200,range=(-10,100),facecolor=\"r\",edgecolor='black')"
   ]
  },
  {
   "cell_type": "markdown",
   "metadata": {},
   "source": [
    "## Organizando  idades"
   ]
  },
  {
   "cell_type": "code",
   "execution_count": 208,
   "metadata": {
    "collapsed": true
   },
   "outputs": [],
   "source": [
    "for i in range(101):\n",
    "    os.mkdir(\"imdb_organized_age/\"+str(i))"
   ]
  },
  {
   "cell_type": "code",
   "execution_count": 93,
   "metadata": {
    "collapsed": true
   },
   "outputs": [
    {
     "name": "stdout",
     "output_type": "stream",
     "text": [
      "\u001b[0m\u001b[1;7;33;46mAdience\u001b[0m/                                   \u001b[1;7;33;46mimdb_organized_age\u001b[0m/\r\n",
      "\u001b[01;32mAGEnet.py\u001b[0m*                                 \u001b[1;7;33;46mimdb_organized_gender\u001b[0m/\r\n",
      "\u001b[01;32mAGEnet_weights.npy\u001b[0m*                        \u001b[01;32mimdb_organized_gender.tar.gz\u001b[0m*\r\n",
      "\u001b[01;32mAnalise do Banco de Dados.ipynb\u001b[0m*           \u001b[01;32mlabels_batch_teste.npy\u001b[0m*\r\n",
      "\u001b[01;32me89ba2a3-920d-40c5-ab9e-9e720c834b70.jpg\u001b[0m*  \u001b[01;32mLICENSE\u001b[0m*\r\n",
      "\u001b[01;32mget images.ipynb\u001b[0m*                          \u001b[01;32mMatlab To CSV.ipynb\u001b[0m*\r\n",
      "\u001b[01;32mimage_batch_teste.npy\u001b[0m*                     \u001b[01;32mnp to h5.ipynb\u001b[0m*\r\n",
      "\u001b[01;32mimdb_correct_age.csv\u001b[0m*                      \u001b[01;32mREADME.md\u001b[0m*\r\n",
      "\u001b[01;32mimdb_correct.csv\u001b[0m*                          \u001b[01;32mteste.npy\u001b[0m*\r\n",
      "\u001b[01;32mimdb_correct_gender.csv\u001b[0m*                   \u001b[1;7;33;46mtrainer\u001b[0m/\r\n",
      "\u001b[1;7;33;46mimdb_crop\u001b[0m/                                 \u001b[01;32mweights.h5\u001b[0m*\r\n",
      "\u001b[01;32mimdb.csv\u001b[0m*\r\n"
     ]
    }
   ],
   "source": [
    "ls"
   ]
  },
  {
   "cell_type": "code",
   "execution_count": 100,
   "metadata": {
    "collapsed": true
   },
   "outputs": [],
   "source": [
    "element = 0"
   ]
  },
  {
   "cell_type": "code",
   "execution_count": 106,
   "metadata": {
    "collapsed": true
   },
   "outputs": [],
   "source": [
    "from tqdm import tnrange"
   ]
  },
  {
   "cell_type": "code",
   "execution_count": 206,
   "metadata": {},
   "outputs": [
    {
     "data": {
      "text/plain": [
       "14370"
      ]
     },
     "execution_count": 206,
     "metadata": {},
     "output_type": "execute_result"
    }
   ],
   "source": [
    "a = element + 1\n",
    "element"
   ]
  },
  {
   "cell_type": "code",
   "execution_count": 207,
   "metadata": {
    "collapsed": true
   },
   "outputs": [],
   "source": [
    "import shutil"
   ]
  },
  {
   "cell_type": "code",
   "execution_count": 209,
   "metadata": {},
   "outputs": [
    {
     "data": {
      "application/vnd.jupyter.widget-view+json": {
       "model_id": "e103cf337df84326ad1c3e664a36e0b0",
       "version_major": 2,
       "version_minor": 0
      },
      "text/plain": [
       "A Jupyter Widget"
      ]
     },
     "metadata": {},
     "output_type": "display_data"
    },
    {
     "name": "stdout",
     "output_type": "stream",
     "text": [
      "\n"
     ]
    }
   ],
   "source": [
    "import shutil\n",
    "full_path=\"/media/phillipe/5C8067C68067A4EC/Users/Phillipe/Documents/EngComp015/6-Sem/MC886/Projetos/Gender-and-Age-Classification/\"\n",
    "for element in tnrange(len(correct_age.AGE.values)):\n",
    "    name = correct_age.FULL_PATH.values[element]\n",
    "    age = correct_age.AGE.values[element]\n",
    "    shutil.copy2(full_path+\"imdb_crop/\"+name ,full_path+\"imdb_organized_age/\"+str(age)+name[name.find(\"/\"):] )\n"
   ]
  },
  {
   "cell_type": "code",
   "execution_count": 92,
   "metadata": {},
   "outputs": [
    {
     "name": "stdout",
     "output_type": "stream",
     "text": [
      "\u001b[0m\u001b[1;7;33;46mAdience\u001b[0m/                                   \u001b[1;7;33;46mimdb_organized_age\u001b[0m/\r\n",
      "\u001b[01;32mAGEnet.py\u001b[0m*                                 \u001b[1;7;33;46mimdb_organized_gender\u001b[0m/\r\n",
      "\u001b[01;32mAGEnet_weights.npy\u001b[0m*                        \u001b[01;32mimdb_organized_gender.tar.gz\u001b[0m*\r\n",
      "\u001b[01;32mAnalise do Banco de Dados.ipynb\u001b[0m*           \u001b[01;32mlabels_batch_teste.npy\u001b[0m*\r\n",
      "\u001b[01;32me89ba2a3-920d-40c5-ab9e-9e720c834b70.jpg\u001b[0m*  \u001b[01;32mLICENSE\u001b[0m*\r\n",
      "\u001b[01;32mget images.ipynb\u001b[0m*                          \u001b[01;32mMatlab To CSV.ipynb\u001b[0m*\r\n",
      "\u001b[01;32mimage_batch_teste.npy\u001b[0m*                     \u001b[01;32mnp to h5.ipynb\u001b[0m*\r\n",
      "\u001b[01;32mimdb_correct_age.csv\u001b[0m*                      \u001b[01;32mREADME.md\u001b[0m*\r\n",
      "\u001b[01;32mimdb_correct.csv\u001b[0m*                          \u001b[01;32mteste.npy\u001b[0m*\r\n",
      "\u001b[01;32mimdb_correct_gender.csv\u001b[0m*                   \u001b[1;7;33;46mtrainer\u001b[0m/\r\n",
      "\u001b[1;7;33;46mimdb_crop\u001b[0m/                                 \u001b[01;32mweights.h5\u001b[0m*\r\n",
      "\u001b[01;32mimdb.csv\u001b[0m*\r\n"
     ]
    }
   ],
   "source": [
    "ls "
   ]
  },
  {
   "cell_type": "code",
   "execution_count": 72,
   "metadata": {
    "collapsed": true
   },
   "outputs": [],
   "source": [
    "removeimgs = dados.labels.loc[np.isnan(dados.labels[\"GENDER\"])]"
   ]
  },
  {
   "cell_type": "code",
   "execution_count": 75,
   "metadata": {},
   "outputs": [
    {
     "data": {
      "application/vnd.jupyter.widget-view+json": {
       "model_id": "aac0f8b5d35945e59286b4b126dca5a3",
       "version_major": 2,
       "version_minor": 0
      },
      "text/plain": [
       "A Jupyter Widget"
      ]
     },
     "metadata": {},
     "output_type": "display_data"
    },
    {
     "name": "stdout",
     "output_type": "stream",
     "text": [
      "\n"
     ]
    }
   ],
   "source": [
    "for element, path in enumerate(tqdm_notebook(removeimgs.FULL_PATH)):\n",
    "    os.remove(\"imdb_crop/\"+path)"
   ]
  },
  {
   "cell_type": "code",
   "execution_count": 41,
   "metadata": {
    "collapsed": true
   },
   "outputs": [],
   "source": [
    "from tqdm import  tqdm_notebook"
   ]
  },
  {
   "cell_type": "code",
   "execution_count": 79,
   "metadata": {},
   "outputs": [
    {
     "data": {
      "text/plain": [
       "True"
      ]
     },
     "execution_count": 79,
     "metadata": {},
     "output_type": "execute_result"
    }
   ],
   "source": [
    "correct_gender.GENDER[0] == 0"
   ]
  },
  {
   "cell_type": "code",
   "execution_count": 37,
   "metadata": {
    "collapsed": true
   },
   "outputs": [],
   "source": [
    "ss = dados.labels.FULL_PATH[element]"
   ]
  },
  {
   "cell_type": "code",
   "execution_count": 96,
   "metadata": {},
   "outputs": [
    {
     "data": {
      "text/plain": [
       "'80/nm2449480_rm2915731712_1992-2-17_2009.jpg'"
      ]
     },
     "execution_count": 96,
     "metadata": {},
     "output_type": "execute_result"
    }
   ],
   "source": [
    "correct_gender.FULL_PATH.values[1]"
   ]
  },
  {
   "cell_type": "code",
   "execution_count": 101,
   "metadata": {},
   "outputs": [
    {
     "data": {
      "application/vnd.jupyter.widget-view+json": {
       "model_id": "bf1acc38e4b6481f8d3e047905165a0a",
       "version_major": 2,
       "version_minor": 0
      },
      "text/plain": [
       "A Jupyter Widget"
      ]
     },
     "metadata": {},
     "output_type": "display_data"
    },
    {
     "name": "stdout",
     "output_type": "stream",
     "text": [
      "\n"
     ]
    }
   ],
   "source": [
    "full_path=\"/media/phillipe/5C8067C68067A4EC/Users/Phillipe/Documents/EngComp015/6-Sem/MC886/Projetos/Gender-and-Age-Classification/\"\n",
    "for element, gender in enumerate(tqdm_notebook(correct_gender.GENDER.values)):\n",
    "    name = correct_gender.FULL_PATH.values[element]\n",
    "    if (gender == 1):\n",
    "        os.rename(full_path+\"imdb_crop/\"+name ,full_path+\"imdb_organized_gender/1\"+name[name.find(\"/\"):] )\n",
    "    else :\n",
    "        os.rename(full_path+\"imdb_crop/\"+name ,full_path+\"imdb_organized_gender/0\"+name[name.find(\"/\"):] )"
   ]
  },
  {
   "cell_type": "code",
   "execution_count": 86,
   "metadata": {},
   "outputs": [
    {
     "name": "stdout",
     "output_type": "stream",
     "text": [
      "\u001b[0m\u001b[1;7;33;46mAdience\u001b[0m/                                   \u001b[01;32mimdb.csv\u001b[0m*\r\n",
      "\u001b[01;32mAGEnet.py\u001b[0m*                                 \u001b[1;7;33;46mimdb_organized_age\u001b[0m/\r\n",
      "\u001b[01;32mAGEnet_weights.npy\u001b[0m*                        \u001b[1;7;33;46mimdb_organized_gender\u001b[0m/\r\n",
      "\u001b[01;32me89ba2a3-920d-40c5-ab9e-9e720c834b70.jpg\u001b[0m*  \u001b[01;32mlabels_batch_teste.npy\u001b[0m*\r\n",
      "\u001b[01;32mget images.ipynb\u001b[0m*                          \u001b[01;32mLICENSE\u001b[0m*\r\n",
      "\u001b[01;32mimage_batch_teste.npy\u001b[0m*                     \u001b[01;32mnp to h5.ipynb\u001b[0m*\r\n",
      "\u001b[01;32mimdb_correct_age.csv\u001b[0m*                      \u001b[01;32mREADME.md\u001b[0m*\r\n",
      "\u001b[01;32mimdb_correct.csv\u001b[0m*                          \u001b[01;32mteste.npy\u001b[0m*\r\n",
      "\u001b[01;32mimdb_correct_gender.csv\u001b[0m*                   \u001b[1;7;33;46mtrainer\u001b[0m/\r\n",
      "\u001b[1;7;33;46mimdb_crop\u001b[0m/                                 \u001b[01;32mweights.h5\u001b[0m*\r\n"
     ]
    }
   ],
   "source": [
    "ls"
   ]
  },
  {
   "cell_type": "code",
   "execution_count": 9,
   "metadata": {
    "collapsed": true
   },
   "outputs": [],
   "source": [
    "for i in range(101):\n",
    "    os.mkdir(str(i))"
   ]
  },
  {
   "cell_type": "code",
   "execution_count": 11,
   "metadata": {},
   "outputs": [
    {
     "data": {
      "text/plain": [
       "<function posix.listdir>"
      ]
     },
     "execution_count": 11,
     "metadata": {},
     "output_type": "execute_result"
    }
   ],
   "source": [
    "os.listdir"
   ]
  },
  {
   "cell_type": "code",
   "execution_count": 69,
   "metadata": {},
   "outputs": [
    {
     "data": {
      "text/plain": [
       "<matplotlib.image.AxesImage at 0x7f75c1d54e80>"
      ]
     },
     "execution_count": 69,
     "metadata": {},
     "output_type": "execute_result"
    },
    {
     "data": {
      "image/png": "[encoded data removed]",
      "text/plain": [
       "<matplotlib.figure.Figure at 0x7f75c19ad710>"
      ]
     },
     "metadata": {},
     "output_type": "display_data"
    }
   ],
   "source": [
    "plt.imshow(dados.imagens[5])"
   ]
  },
  {
   "cell_type": "code",
   "execution_count": null,
   "metadata": {
    "collapsed": true
   },
   "outputs": [],
   "source": []
  },
  {
   "cell_type": "code",
   "execution_count": 8,
   "metadata": {
    "collapsed": true
   },
   "outputs": [],
   "source": [
    "labels = pd.read_csv(\"imdb.csv\")"
   ]
  },
  {
   "cell_type": "code",
   "execution_count": 22,
   "metadata": {
    "collapsed": true
   },
   "outputs": [],
   "source": [
    "labels_batch = labels.AGE.values[0:1000]"
   ]
  },
  {
   "cell_type": "code",
   "execution_count": 23,
   "metadata": {
    "collapsed": true
   },
   "outputs": [],
   "source": [
    "dirs_batch = dados.Dir[0:1000]"
   ]
  },
  {
   "cell_type": "code",
   "execution_count": 27,
   "metadata": {
    "collapsed": true
   },
   "outputs": [],
   "source": [
    "images_batch = np.array(dados.imagens[0:1000])"
   ]
  },
  {
   "cell_type": "code",
   "execution_count": 28,
   "metadata": {
    "collapsed": true
   },
   "outputs": [],
   "source": [
    "np.save(\"image_batch_teste\",images_batch)\n",
    "np.save(\"labels_batch_teste\",labels_batch)"
   ]
  },
  {
   "cell_type": "code",
   "execution_count": 15,
   "metadata": {
    "collapsed": true
   },
   "outputs": [],
   "source": [
    "npy = np.load(\"image_batch_teste.npy\")"
   ]
  },
  {
   "cell_type": "code",
   "execution_count": 16,
   "metadata": {},
   "outputs": [
    {
     "data": {
      "text/plain": [
       "(1000,)"
      ]
     },
     "execution_count": 16,
     "metadata": {},
     "output_type": "execute_result"
    }
   ],
   "source": [
    "npy.shape"
   ]
  },
  {
   "cell_type": "code",
   "execution_count": 118,
   "metadata": {
    "collapsed": true
   },
   "outputs": [],
   "source": [
    "images = [i for i in npy]"
   ]
  },
  {
   "cell_type": "code",
   "execution_count": 130,
   "metadata": {},
   "outputs": [
    {
     "data": {
      "text/plain": [
       "(500, 334, 3)"
      ]
     },
     "execution_count": 130,
     "metadata": {},
     "output_type": "execute_result"
    }
   ],
   "source": [
    "npy[5].shape"
   ]
  }
 ],
 "metadata": {
  "kernelspec": {
   "display_name": "Python 3",
   "language": "python",
   "name": "python3"
  },
  "language_info": {
   "codemirror_mode": {
    "name": "ipython",
    "version": 3
   },
   "file_extension": ".py",
   "mimetype": "text/x-python",
   "name": "python",
   "nbconvert_exporter": "python",
   "pygments_lexer": "ipython3",
   "version": "3.6.3"
  }
 },
 "nbformat": 4,
 "nbformat_minor": 2
}
